{
 "cells": [
  {
   "cell_type": "markdown",
   "metadata": {},
   "source": [
    "###  ---------------------------------------------------------------------------------------------------------------------------------------\n",
    "##### Copyright (c) Rajdeep Biswas\n",
    "##### Licensed under the MIT license.\n",
    "###### File: get_snp500_news.ipynb\n",
    "###### Date: 09/27/2021\n",
    "###  ---------------------------------------------------------------------------------------------------------------------------------------"
   ]
  },
  {
   "cell_type": "markdown",
   "metadata": {},
   "source": [
    "### Table of Contents\n",
    "\n",
    "* [Initial Configurations](#IC)\n",
    "    * [Import Libraries](#IL)\n",
    "    * [Autheticate the AML Workspace](#AML)\n",
    "* [Get Data (Bronze)](#GD)\n",
    "    * [Setup Directory Structure](#SD)\n",
    "    * [Configure SnP500 List](#SL)\n",
    "    * [Download Current Stock News](#DD)    \n",
    "* [Transform Data](#TD)   \n",
    "    * [Write Data (Silver)](#WS)   \n",
    "    * [Clean the Text](#CT)\n",
    "    * [Write Data (Gold)](#WG)    "
   ]
  },
  {
   "cell_type": "markdown",
   "metadata": {},
   "source": [
    "### Initial Configurations <a class=\"anchor\" id=\"IC\"></a>"
   ]
  },
  {
   "cell_type": "markdown",
   "metadata": {},
   "source": [
    "#### Import Libraries <a class=\"anchor\" id=\"IL\"></a>"
   ]
  },
  {
   "cell_type": "code",
   "execution_count": 4,
   "metadata": {},
   "outputs": [],
   "source": [
    "#Import required Libraries\n",
    "import os\n",
    "\n",
    "import numpy as np # linear algebra\n",
    "import pandas as pd # data processing, CSV file I/O (e.g. pd.read_csv)\n",
    "import seaborn as sns\n",
    "import matplotlib.pyplot as plt\n",
    "from matplotlib.image import imread\n",
    "import cv2\n",
    "%matplotlib inline\n",
    "\n",
    "import warnings\n",
    "warnings.filterwarnings(\"ignore\")\n",
    "\n",
    "#pip install pandas_datareader\n",
    "import pandas_datareader.data as web\n",
    "import pandas as pd\n",
    "import datetime as dt\n",
    "\n",
    "import azureml.core\n",
    "import azureml.automl\n",
    "from azureml.core import Workspace, Dataset, Datastore"
   ]
  },
  {
   "cell_type": "markdown",
   "metadata": {},
   "source": [
    "#### Autheticate the AML Workspace <a class=\"anchor\" id=\"AML\"></a>"
   ]
  },
  {
   "cell_type": "code",
   "execution_count": 3,
   "metadata": {},
   "outputs": [
    {
     "name": "stdout",
     "output_type": "stream",
     "text": [
      "Ready to use Azure ML 1.33.0 to work with houston-techsummit-workspace\n"
     ]
    }
   ],
   "source": [
    "import azureml.core\n",
    "from azureml.core import Workspace\n",
    "\n",
    "# Load the workspace from the saved config file\n",
    "ws = Workspace.from_config()\n",
    "print('Ready to use Azure ML {} to work with {}'.format(azureml.core.VERSION, ws.name))"
   ]
  },
  {
   "cell_type": "markdown",
   "metadata": {},
   "source": [
    "### Get Data (Bronze) <a class=\"anchor\" id=\"GD\"></a>\n",
    "- Raw data extraction for the file, API based and web datasets. Let us call this __Bronze Layer__.\n",
    "- Data transformation using python from Raw to Processed stage. We will call this __Silver Layer__.\n",
    "- Finally store the processed data using standard taxonomy in a SQL based serving layer. We will call this __Gold Layer__."
   ]
  },
  {
   "cell_type": "markdown",
   "metadata": {},
   "source": [
    "#### Setup Directory Structure <a class=\"anchor\" id=\"SD\"></a>"
   ]
  },
  {
   "cell_type": "code",
   "execution_count": 6,
   "metadata": {},
   "outputs": [],
   "source": [
    "data_folder = os.path.join(os.getcwd(), 'data')\n",
    "\n",
    "#Create the data directory\n",
    "os.makedirs(data_folder, exist_ok=True)\n",
    "\n",
    "#Create the bronze, silver and gold folders\n",
    "bronze_data_folder = data_folder +\"/bronze\"\n",
    "os.makedirs(bronze_data_folder, exist_ok=True)\n",
    "\n",
    "silver_data_folder = data_folder +\"/silver\"\n",
    "os.makedirs(silver_data_folder, exist_ok=True)\n",
    "\n",
    "gold_data_folder = data_folder +\"/gold\"\n",
    "os.makedirs(gold_data_folder, exist_ok=True)\n",
    "\n",
    "#Create sub folder for stock news data in bronze\n",
    "news_data_bronze = bronze_data_folder +\"/snp500_news\"\n",
    "os.makedirs(news_data_bronze, exist_ok=True)\n",
    "\n",
    "#Create sub folder for stock news data in silver\n",
    "news_data_silver = silver_data_folder +\"/snp500_news\"\n",
    "os.makedirs(news_data_silver, exist_ok=True)\n",
    "\n",
    "#Create sub folder for stock news data in gold\n",
    "news_data_gold = gold_data_folder +\"/snp500_news\"\n",
    "os.makedirs(news_data_gold, exist_ok=True)"
   ]
  },
  {
   "cell_type": "markdown",
   "metadata": {},
   "source": [
    "#### Configure SnP500 List<a class=\"anchor\" id=\"SL\"></a>"
   ]
  },
  {
   "cell_type": "code",
   "execution_count": 7,
   "metadata": {},
   "outputs": [],
   "source": [
    "snp500_list = si.tickers_sp500()"
   ]
  },
  {
   "cell_type": "markdown",
   "metadata": {},
   "source": [
    "#### Download Current Stock News <a class=\"anchor\" id=\"DD\"></a>"
   ]
  },
  {
   "cell_type": "code",
   "execution_count": 19,
   "metadata": {},
   "outputs": [
    {
     "data": {
      "text/plain": [
       "{'summary': 'SANTA CLARA, Calif., September 23, 2021--Pfizer executive Dr. Mikael Dolsten appointed to Agilent board of directors.',\n",
       " 'summary_detail': {'type': 'text/html',\n",
       "  'language': None,\n",
       "  'base': 'https://feeds.finance.yahoo.com/rss/2.0/headline?s=A&region=US&lang=en-US',\n",
       "  'value': 'SANTA CLARA, Calif., September 23, 2021--Pfizer executive Dr. Mikael Dolsten appointed to Agilent board of directors.'},\n",
       " 'id': '2fa4717a-ebe3-3c6e-9bde-57c6629f6574',\n",
       " 'guidislink': False,\n",
       " 'links': [{'rel': 'alternate',\n",
       "   'type': 'text/html',\n",
       "   'href': 'https://finance.yahoo.com/news/dr-mikael-dolsten-named-agilent-200500494.html?.tsrc=rss'}],\n",
       " 'link': 'https://finance.yahoo.com/news/dr-mikael-dolsten-named-agilent-200500494.html?.tsrc=rss',\n",
       " 'published': 'Thu, 23 Sep 2021 20:05:00 +0000',\n",
       " 'published_parsed': time.struct_time(tm_year=2021, tm_mon=9, tm_mday=23, tm_hour=20, tm_min=5, tm_sec=0, tm_wday=3, tm_yday=266, tm_isdst=0),\n",
       " 'title': 'Dr. Mikael Dolsten Named to Agilent Board of Directors',\n",
       " 'title_detail': {'type': 'text/plain',\n",
       "  'language': None,\n",
       "  'base': 'https://feeds.finance.yahoo.com/rss/2.0/headline?s=A&region=US&lang=en-US',\n",
       "  'value': 'Dr. Mikael Dolsten Named to Agilent Board of Directors'}}"
      ]
     },
     "execution_count": 19,
     "metadata": {},
     "output_type": "execute_result"
    }
   ],
   "source": [
    "all_news = news.get_rss(\"A\")\n",
    "all_news[0]"
   ]
  },
  {
   "cell_type": "code",
   "execution_count": 11,
   "metadata": {},
   "outputs": [
    {
     "data": {
      "text/plain": [
       "\"Netflix's co-CEO Ted Sarandos noted that French-language crime drama Lupin was the first non-English-language show to become the platform's top program. “Squid Game is bigger,” he says.\""
      ]
     },
     "execution_count": 11,
     "metadata": {},
     "output_type": "execute_result"
    }
   ],
   "source": [
    "all_news[0]['summary']"
   ]
  },
  {
   "cell_type": "code",
   "execution_count": 12,
   "metadata": {},
   "outputs": [
    {
     "data": {
      "text/plain": [
       "20"
      ]
     },
     "execution_count": 12,
     "metadata": {},
     "output_type": "execute_result"
    }
   ],
   "source": [
    "len(all_news)"
   ]
  },
  {
   "cell_type": "code",
   "execution_count": 33,
   "metadata": {},
   "outputs": [
    {
     "data": {
      "text/html": [
       "<div>\n",
       "<style scoped>\n",
       "    .dataframe tbody tr th:only-of-type {\n",
       "        vertical-align: middle;\n",
       "    }\n",
       "\n",
       "    .dataframe tbody tr th {\n",
       "        vertical-align: top;\n",
       "    }\n",
       "\n",
       "    .dataframe thead th {\n",
       "        text-align: right;\n",
       "    }\n",
       "</style>\n",
       "<table border=\"1\" class=\"dataframe\">\n",
       "  <thead>\n",
       "    <tr style=\"text-align: right;\">\n",
       "      <th></th>\n",
       "      <th>Ticker</th>\n",
       "      <th>NewsNum</th>\n",
       "      <th>Value</th>\n",
       "    </tr>\n",
       "  </thead>\n",
       "  <tbody>\n",
       "    <tr>\n",
       "      <th>0</th>\n",
       "      <td>CDAY</td>\n",
       "      <td>0</td>\n",
       "      <td>Shares of cruise line stocks had a great start...</td>\n",
       "    </tr>\n",
       "    <tr>\n",
       "      <th>1</th>\n",
       "      <td>CDAY</td>\n",
       "      <td>1</td>\n",
       "      <td>Shares of cruise line stocks including Carniva...</td>\n",
       "    </tr>\n",
       "    <tr>\n",
       "      <th>2</th>\n",
       "      <td>CDAY</td>\n",
       "      <td>2</td>\n",
       "      <td>Shares of Carnival were up almost 5%.  The gai...</td>\n",
       "    </tr>\n",
       "    <tr>\n",
       "      <th>3</th>\n",
       "      <td>CDAY</td>\n",
       "      <td>3</td>\n",
       "      <td>Carnival's (CCL) gradual resumption of busines...</td>\n",
       "    </tr>\n",
       "    <tr>\n",
       "      <th>4</th>\n",
       "      <td>CDAY</td>\n",
       "      <td>4</td>\n",
       "      <td>Princess Cruises sails guests from the Port of...</td>\n",
       "    </tr>\n",
       "    <tr>\n",
       "      <th>5</th>\n",
       "      <td>CDAY</td>\n",
       "      <td>5</td>\n",
       "      <td>CCL earnings call for the period ending August...</td>\n",
       "    </tr>\n",
       "    <tr>\n",
       "      <th>6</th>\n",
       "      <td>CDAY</td>\n",
       "      <td>6</td>\n",
       "      <td>Doral-based Carnival Corp. &amp; plc is on course ...</td>\n",
       "    </tr>\n",
       "    <tr>\n",
       "      <th>7</th>\n",
       "      <td>CDAY</td>\n",
       "      <td>7</td>\n",
       "      <td>Yahoo Finance’s Ines Ferre reports on the day'...</td>\n",
       "    </tr>\n",
       "    <tr>\n",
       "      <th>8</th>\n",
       "      <td>CDAY</td>\n",
       "      <td>8</td>\n",
       "      <td>View more earnings on CCLSee more from Benzing...</td>\n",
       "    </tr>\n",
       "    <tr>\n",
       "      <th>9</th>\n",
       "      <td>CDAY</td>\n",
       "      <td>9</td>\n",
       "      <td>In this article we will take a look at the som...</td>\n",
       "    </tr>\n",
       "    <tr>\n",
       "      <th>10</th>\n",
       "      <td>CDAY</td>\n",
       "      <td>10</td>\n",
       "      <td>Shares of Carnival (NYSE: CCL)(NYSE: CUK) were...</td>\n",
       "    </tr>\n",
       "    <tr>\n",
       "      <th>11</th>\n",
       "      <td>CDAY</td>\n",
       "      <td>11</td>\n",
       "      <td>Carnival has been ramping up its cruise busine...</td>\n",
       "    </tr>\n",
       "    <tr>\n",
       "      <th>12</th>\n",
       "      <td>CDAY</td>\n",
       "      <td>12</td>\n",
       "      <td>Carnival says it was cash flow positive in the...</td>\n",
       "    </tr>\n",
       "    <tr>\n",
       "      <th>13</th>\n",
       "      <td>CDAY</td>\n",
       "      <td>13</td>\n",
       "      <td>Shares of Carnival Corp. surged 1.3% in mornin...</td>\n",
       "    </tr>\n",
       "    <tr>\n",
       "      <th>14</th>\n",
       "      <td>CDAY</td>\n",
       "      <td>14</td>\n",
       "      <td>Carnival Corp  said on Friday cruise bookings ...</td>\n",
       "    </tr>\n",
       "    <tr>\n",
       "      <th>15</th>\n",
       "      <td>CDAY</td>\n",
       "      <td>15</td>\n",
       "      <td>The company's U.S.-listed shares rose 3.1% to ...</td>\n",
       "    </tr>\n",
       "    <tr>\n",
       "      <th>16</th>\n",
       "      <td>CDAY</td>\n",
       "      <td>16</td>\n",
       "      <td>Carnival Corporation &amp; plc (NYSE/LSE: CCL; NYS...</td>\n",
       "    </tr>\n",
       "    <tr>\n",
       "      <th>17</th>\n",
       "      <td>CDAY</td>\n",
       "      <td>17</td>\n",
       "      <td>Carnival Cruise Lines (NYSE:CCL) has been look...</td>\n",
       "    </tr>\n",
       "    <tr>\n",
       "      <th>18</th>\n",
       "      <td>CDAY</td>\n",
       "      <td>18</td>\n",
       "      <td>Some of the stocks that may grab investor focu...</td>\n",
       "    </tr>\n",
       "    <tr>\n",
       "      <th>19</th>\n",
       "      <td>CDAY</td>\n",
       "      <td>19</td>\n",
       "      <td>The leading cruise line expects to have half o...</td>\n",
       "    </tr>\n",
       "  </tbody>\n",
       "</table>\n",
       "</div>"
      ],
      "text/plain": [
       "   Ticker NewsNum                                              Value\n",
       "0    CDAY       0  Shares of cruise line stocks had a great start...\n",
       "1    CDAY       1  Shares of cruise line stocks including Carniva...\n",
       "2    CDAY       2  Shares of Carnival were up almost 5%.  The gai...\n",
       "3    CDAY       3  Carnival's (CCL) gradual resumption of busines...\n",
       "4    CDAY       4  Princess Cruises sails guests from the Port of...\n",
       "5    CDAY       5  CCL earnings call for the period ending August...\n",
       "6    CDAY       6  Doral-based Carnival Corp. & plc is on course ...\n",
       "7    CDAY       7  Yahoo Finance’s Ines Ferre reports on the day'...\n",
       "8    CDAY       8  View more earnings on CCLSee more from Benzing...\n",
       "9    CDAY       9  In this article we will take a look at the som...\n",
       "10   CDAY      10  Shares of Carnival (NYSE: CCL)(NYSE: CUK) were...\n",
       "11   CDAY      11  Carnival has been ramping up its cruise busine...\n",
       "12   CDAY      12  Carnival says it was cash flow positive in the...\n",
       "13   CDAY      13  Shares of Carnival Corp. surged 1.3% in mornin...\n",
       "14   CDAY      14  Carnival Corp  said on Friday cruise bookings ...\n",
       "15   CDAY      15  The company's U.S.-listed shares rose 3.1% to ...\n",
       "16   CDAY      16  Carnival Corporation & plc (NYSE/LSE: CCL; NYS...\n",
       "17   CDAY      17  Carnival Cruise Lines (NYSE:CCL) has been look...\n",
       "18   CDAY      18  Some of the stocks that may grab investor focu...\n",
       "19   CDAY      19  The leading cruise line expects to have half o..."
      ]
     },
     "execution_count": 33,
     "metadata": {},
     "output_type": "execute_result"
    }
   ],
   "source": [
    "snp500_news = {}\n",
    "combined_snp500_news = pd.DataFrame(columns = [\"Ticker\", \"NewsNum\", \"Value\"])\n",
    "#combined_snp500_news.columns = [\"Ticker\", \"NewsNum\", \"Value\"]\n",
    "for i in range (len(all_news)):\n",
    "    snp500_news[ticker+'_'+str(i)] = all_news_list[i]['summary']\n",
    "for key,value in snp500_news.items():\n",
    "    news_num = key.split('_')[1]\n",
    "    new_row = {'Ticker':ticker, 'NewsNum':news_num, 'Value':value}\n",
    "    #append row to the dataframe\n",
    "    combined_snp500_news = combined_snp500_news.append(new_row, ignore_index=True)    \n",
    "\n",
    "combined_snp500_news    \n",
    "#snp500_news\n",
    "#combined_snp500_news = pd.concat(snp500_news)\n",
    " \n",
    "#combined_snp500_news = combined_snp500_news.reset_index()\n",
    " \n",
    "#del combined_extra_stats[\"level_1\"]\n",
    " \n",
    "#combined_extra_stats.columns = [\"Ticker\", \"Value\"]\n",
    "#combined_extra_stats"
   ]
  },
  {
   "cell_type": "code",
   "execution_count": 52,
   "metadata": {},
   "outputs": [],
   "source": [
    "#snp500_list = si.tickers_sp500()\n",
    "snp500_news = {}\n",
    "combined_snp500_news = pd.DataFrame(data=None, columns = [\"Ticker\", \"NewsNum\", \"Value\"])\n",
    "\n",
    "import time\n",
    "from time import sleep\n",
    "import importlib\n",
    "\n",
    "for ticker in snp500_list:\n",
    "    try: \n",
    "        all_news_list = news.get_yf_rss(ticker)\n",
    "        for i in range (len(all_news_list)):\n",
    "            snp500_news[ticker+'_'+str(i)] = all_news_list[i]['summary']\n",
    "        for key,value in snp500_news.items():\n",
    "            news_num = key.split('_')[1]\n",
    "            new_row = {'Ticker':ticker, 'NewsNum':news_num, 'Value':value}\n",
    "            #append row to the dataframe\n",
    "            combined_snp500_news = combined_snp500_news.append(new_row, ignore_index=True)    \n",
    "        #break\n",
    "    except Exception as e:\n",
    "        print (ticker, e)\n",
    "        sleep(300) \n",
    "        all_news_list = news.get_yf_rss(ticker)\n",
    "        for i in range (len(all_news_list)):\n",
    "            snp500_news[ticker+'_'+str(i)] = all_news_list[i]['summary']\n",
    "        for key,value in snp500_news.items():\n",
    "            news_num = key.split('_')[1]\n",
    "            new_row = {'Ticker':ticker, 'NewsNum':news_num, 'Value':value}\n",
    "            #append row to the dataframe\n",
    "            combined_snp500_news = combined_snp500_news.append(new_row, ignore_index=True) "
   ]
  },
  {
   "cell_type": "code",
   "execution_count": 37,
   "metadata": {},
   "outputs": [
    {
     "data": {
      "text/html": [
       "<div>\n",
       "<style scoped>\n",
       "    .dataframe tbody tr th:only-of-type {\n",
       "        vertical-align: middle;\n",
       "    }\n",
       "\n",
       "    .dataframe tbody tr th {\n",
       "        vertical-align: top;\n",
       "    }\n",
       "\n",
       "    .dataframe thead th {\n",
       "        text-align: right;\n",
       "    }\n",
       "</style>\n",
       "<table border=\"1\" class=\"dataframe\">\n",
       "  <thead>\n",
       "    <tr style=\"text-align: right;\">\n",
       "      <th></th>\n",
       "      <th>Ticker</th>\n",
       "      <th>NewsNum</th>\n",
       "      <th>Value</th>\n",
       "    </tr>\n",
       "  </thead>\n",
       "  <tbody>\n",
       "    <tr>\n",
       "      <th>0</th>\n",
       "      <td>A</td>\n",
       "      <td>0</td>\n",
       "      <td>SANTA CLARA, Calif., September 23, 2021--Pfize...</td>\n",
       "    </tr>\n",
       "    <tr>\n",
       "      <th>1</th>\n",
       "      <td>A</td>\n",
       "      <td>1</td>\n",
       "      <td>SANTA CLARA, Calif., September 22, 2021--Agile...</td>\n",
       "    </tr>\n",
       "    <tr>\n",
       "      <th>2</th>\n",
       "      <td>A</td>\n",
       "      <td>2</td>\n",
       "      <td>Hedge fund manager William Ackman's 10% bet on...</td>\n",
       "    </tr>\n",
       "    <tr>\n",
       "      <th>3</th>\n",
       "      <td>A</td>\n",
       "      <td>3</td>\n",
       "      <td>Smart Beta ETF report for FTCS</td>\n",
       "    </tr>\n",
       "    <tr>\n",
       "      <th>4</th>\n",
       "      <td>A</td>\n",
       "      <td>4</td>\n",
       "      <td>Stocks Cut Losses Amid Mixed Economic Data</td>\n",
       "    </tr>\n",
       "    <tr>\n",
       "      <th>5</th>\n",
       "      <td>A</td>\n",
       "      <td>5</td>\n",
       "      <td>The worst result, after buying shares in a com...</td>\n",
       "    </tr>\n",
       "    <tr>\n",
       "      <th>6</th>\n",
       "      <td>A</td>\n",
       "      <td>6</td>\n",
       "      <td>Agilent (A) reported earnings 30 days ago. Wha...</td>\n",
       "    </tr>\n",
       "    <tr>\n",
       "      <th>7</th>\n",
       "      <td>A</td>\n",
       "      <td>7</td>\n",
       "      <td>SANTA CLARA, Calif., September 07, 2021--Agile...</td>\n",
       "    </tr>\n",
       "    <tr>\n",
       "      <th>8</th>\n",
       "      <td>A</td>\n",
       "      <td>8</td>\n",
       "      <td>Agilent (A) signs an agreement with Visiopharm...</td>\n",
       "    </tr>\n",
       "    <tr>\n",
       "      <th>9</th>\n",
       "      <td>A</td>\n",
       "      <td>9</td>\n",
       "      <td>Is (A) Outperforming Other Computer and Techno...</td>\n",
       "    </tr>\n",
       "    <tr>\n",
       "      <th>10</th>\n",
       "      <td>A</td>\n",
       "      <td>10</td>\n",
       "      <td>SANTA CLARA, Calif., September 02, 2021--Agile...</td>\n",
       "    </tr>\n",
       "    <tr>\n",
       "      <th>11</th>\n",
       "      <td>A</td>\n",
       "      <td>11</td>\n",
       "      <td>SANTA CLARA, Calif., September 01, 2021--Agile...</td>\n",
       "    </tr>\n",
       "    <tr>\n",
       "      <th>12</th>\n",
       "      <td>A</td>\n",
       "      <td>12</td>\n",
       "      <td>Finding strong, market-beating stocks with a p...</td>\n",
       "    </tr>\n",
       "    <tr>\n",
       "      <th>13</th>\n",
       "      <td>A</td>\n",
       "      <td>13</td>\n",
       "      <td>In this article, we will take a look at the 10...</td>\n",
       "    </tr>\n",
       "    <tr>\n",
       "      <th>14</th>\n",
       "      <td>A</td>\n",
       "      <td>14</td>\n",
       "      <td>Billionaire investor William Ackman, who last ...</td>\n",
       "    </tr>\n",
       "    <tr>\n",
       "      <th>15</th>\n",
       "      <td>A</td>\n",
       "      <td>15</td>\n",
       "      <td>Billionaire investor William Ackman, who last ...</td>\n",
       "    </tr>\n",
       "    <tr>\n",
       "      <th>16</th>\n",
       "      <td>A</td>\n",
       "      <td>16</td>\n",
       "      <td>Agilent Technologies (A) boosts presence in th...</td>\n",
       "    </tr>\n",
       "    <tr>\n",
       "      <th>17</th>\n",
       "      <td>A</td>\n",
       "      <td>17</td>\n",
       "      <td>SANTA CLARA, Calif., August 23, 2021--Agilent ...</td>\n",
       "    </tr>\n",
       "    <tr>\n",
       "      <th>18</th>\n",
       "      <td>A</td>\n",
       "      <td>18</td>\n",
       "      <td>SANTA CLARA, Calif., August 19, 2021--Agilent ...</td>\n",
       "    </tr>\n",
       "    <tr>\n",
       "      <th>19</th>\n",
       "      <td>A</td>\n",
       "      <td>19</td>\n",
       "      <td>McMullen attributed Agilent's success to its f...</td>\n",
       "    </tr>\n",
       "  </tbody>\n",
       "</table>\n",
       "</div>"
      ],
      "text/plain": [
       "   Ticker NewsNum                                              Value\n",
       "0       A       0  SANTA CLARA, Calif., September 23, 2021--Pfize...\n",
       "1       A       1  SANTA CLARA, Calif., September 22, 2021--Agile...\n",
       "2       A       2  Hedge fund manager William Ackman's 10% bet on...\n",
       "3       A       3                     Smart Beta ETF report for FTCS\n",
       "4       A       4         Stocks Cut Losses Amid Mixed Economic Data\n",
       "5       A       5  The worst result, after buying shares in a com...\n",
       "6       A       6  Agilent (A) reported earnings 30 days ago. Wha...\n",
       "7       A       7  SANTA CLARA, Calif., September 07, 2021--Agile...\n",
       "8       A       8  Agilent (A) signs an agreement with Visiopharm...\n",
       "9       A       9  Is (A) Outperforming Other Computer and Techno...\n",
       "10      A      10  SANTA CLARA, Calif., September 02, 2021--Agile...\n",
       "11      A      11  SANTA CLARA, Calif., September 01, 2021--Agile...\n",
       "12      A      12  Finding strong, market-beating stocks with a p...\n",
       "13      A      13  In this article, we will take a look at the 10...\n",
       "14      A      14  Billionaire investor William Ackman, who last ...\n",
       "15      A      15  Billionaire investor William Ackman, who last ...\n",
       "16      A      16  Agilent Technologies (A) boosts presence in th...\n",
       "17      A      17  SANTA CLARA, Calif., August 23, 2021--Agilent ...\n",
       "18      A      18  SANTA CLARA, Calif., August 19, 2021--Agilent ...\n",
       "19      A      19  McMullen attributed Agilent's success to its f..."
      ]
     },
     "execution_count": 37,
     "metadata": {},
     "output_type": "execute_result"
    }
   ],
   "source": [
    "combined_snp500_news"
   ]
  },
  {
   "cell_type": "markdown",
   "metadata": {},
   "source": [
    "### Transform Data <a class=\"anchor\" id=\"TD\"></a>"
   ]
  },
  {
   "cell_type": "markdown",
   "metadata": {},
   "source": [
    "#### Write Data (Silver) <a class=\"anchor\" id=\"WS\"></a>"
   ]
  },
  {
   "cell_type": "code",
   "execution_count": 53,
   "metadata": {},
   "outputs": [],
   "source": [
    "output_file_name = news_data_silver + '/snp500_all_news_1.csv'\n",
    "combined_snp500_news.to_csv(output_file_name, index=False)  "
   ]
  },
  {
   "cell_type": "code",
   "execution_count": 39,
   "metadata": {},
   "outputs": [
    {
     "name": "stdout",
     "output_type": "stream",
     "text": [
      "<class 'pandas.core.frame.DataFrame'>\n",
      "RangeIndex: 2043940 entries, 0 to 2043939\n",
      "Data columns (total 3 columns):\n",
      "Ticker     object\n",
      "NewsNum    object\n",
      "Value      object\n",
      "dtypes: object(3)\n",
      "memory usage: 46.8+ MB\n"
     ]
    }
   ],
   "source": [
    "combined_snp500_news.info()"
   ]
  },
  {
   "cell_type": "code",
   "execution_count": 46,
   "metadata": {},
   "outputs": [],
   "source": [
    "current_array = combined_snp500_news['Ticker'].unique()"
   ]
  },
  {
   "cell_type": "code",
   "execution_count": 47,
   "metadata": {},
   "outputs": [],
   "source": [
    "snp500_list = si.tickers_sp500()"
   ]
  },
  {
   "cell_type": "code",
   "execution_count": 48,
   "metadata": {},
   "outputs": [],
   "source": [
    "for ticker in current_array:\n",
    "    snp500_list.remove(ticker)"
   ]
  },
  {
   "cell_type": "code",
   "execution_count": 49,
   "metadata": {},
   "outputs": [
    {
     "data": {
      "text/plain": [
       "['TYL',\n",
       " 'UA',\n",
       " 'UAA',\n",
       " 'UAL',\n",
       " 'UDR',\n",
       " 'UHS',\n",
       " 'ULTA',\n",
       " 'UNH',\n",
       " 'UNP',\n",
       " 'UPS',\n",
       " 'URI',\n",
       " 'USB',\n",
       " 'V',\n",
       " 'VFC',\n",
       " 'VIAC',\n",
       " 'VLO',\n",
       " 'VMC',\n",
       " 'VNO',\n",
       " 'VRSK',\n",
       " 'VRSN',\n",
       " 'VRTX',\n",
       " 'VTR',\n",
       " 'VTRS',\n",
       " 'VZ',\n",
       " 'WAB',\n",
       " 'WAT',\n",
       " 'WBA',\n",
       " 'WDC',\n",
       " 'WEC',\n",
       " 'WELL',\n",
       " 'WFC',\n",
       " 'WHR',\n",
       " 'WLTW',\n",
       " 'WM',\n",
       " 'WMB',\n",
       " 'WMT',\n",
       " 'WRB',\n",
       " 'WRK',\n",
       " 'WST',\n",
       " 'WU',\n",
       " 'WY',\n",
       " 'WYNN',\n",
       " 'XEL',\n",
       " 'XLNX',\n",
       " 'XOM',\n",
       " 'XRAY',\n",
       " 'XYL',\n",
       " 'YUM',\n",
       " 'ZBH',\n",
       " 'ZBRA',\n",
       " 'ZION',\n",
       " 'ZTS']"
      ]
     },
     "execution_count": 49,
     "metadata": {},
     "output_type": "execute_result"
    }
   ],
   "source": [
    "snp500_list"
   ]
  },
  {
   "cell_type": "code",
   "execution_count": 50,
   "metadata": {},
   "outputs": [
    {
     "data": {
      "text/html": [
       "<div>\n",
       "<style scoped>\n",
       "    .dataframe tbody tr th:only-of-type {\n",
       "        vertical-align: middle;\n",
       "    }\n",
       "\n",
       "    .dataframe tbody tr th {\n",
       "        vertical-align: top;\n",
       "    }\n",
       "\n",
       "    .dataframe thead th {\n",
       "        text-align: right;\n",
       "    }\n",
       "</style>\n",
       "<table border=\"1\" class=\"dataframe\">\n",
       "  <thead>\n",
       "    <tr style=\"text-align: right;\">\n",
       "      <th></th>\n",
       "      <th>Ticker</th>\n",
       "      <th>NewsNum</th>\n",
       "      <th>Value</th>\n",
       "    </tr>\n",
       "  </thead>\n",
       "  <tbody>\n",
       "    <tr>\n",
       "      <th>0</th>\n",
       "      <td>A</td>\n",
       "      <td>0</td>\n",
       "      <td>SANTA CLARA, Calif., September 23, 2021--Pfize...</td>\n",
       "    </tr>\n",
       "    <tr>\n",
       "      <th>1</th>\n",
       "      <td>A</td>\n",
       "      <td>1</td>\n",
       "      <td>SANTA CLARA, Calif., September 22, 2021--Agile...</td>\n",
       "    </tr>\n",
       "    <tr>\n",
       "      <th>2</th>\n",
       "      <td>A</td>\n",
       "      <td>2</td>\n",
       "      <td>Hedge fund manager William Ackman's 10% bet on...</td>\n",
       "    </tr>\n",
       "    <tr>\n",
       "      <th>3</th>\n",
       "      <td>A</td>\n",
       "      <td>3</td>\n",
       "      <td>Smart Beta ETF report for FTCS</td>\n",
       "    </tr>\n",
       "    <tr>\n",
       "      <th>4</th>\n",
       "      <td>A</td>\n",
       "      <td>4</td>\n",
       "      <td>Stocks Cut Losses Amid Mixed Economic Data</td>\n",
       "    </tr>\n",
       "  </tbody>\n",
       "</table>\n",
       "</div>"
      ],
      "text/plain": [
       "  Ticker NewsNum                                              Value\n",
       "0      A       0  SANTA CLARA, Calif., September 23, 2021--Pfize...\n",
       "1      A       1  SANTA CLARA, Calif., September 22, 2021--Agile...\n",
       "2      A       2  Hedge fund manager William Ackman's 10% bet on...\n",
       "3      A       3                     Smart Beta ETF report for FTCS\n",
       "4      A       4         Stocks Cut Losses Amid Mixed Economic Data"
      ]
     },
     "execution_count": 50,
     "metadata": {},
     "output_type": "execute_result"
    }
   ],
   "source": [
    "combined_snp500_news.head()"
   ]
  },
  {
   "cell_type": "code",
   "execution_count": 51,
   "metadata": {},
   "outputs": [],
   "source": [
    "combined_snp500_news_backup = combined_snp500_news"
   ]
  },
  {
   "cell_type": "markdown",
   "metadata": {},
   "source": [
    "#### Clean the Text <a class=\"anchor\" id=\"CT\"></a>"
   ]
  },
  {
   "cell_type": "code",
   "execution_count": 55,
   "metadata": {},
   "outputs": [],
   "source": [
    "#Build punctuation dictionary\n",
    "import unicodedata\n",
    "import sys\n",
    "\n",
    "# Create a dictionary of punctuation characters\n",
    "punctuation = dict.fromkeys(i for i in range(sys.maxunicode)\n",
    "                            if unicodedata.category(chr(i)).startswith('P'))\n",
    "# Add the backtick/ Grave accent character\n",
    "punctuation.update({96:None})"
   ]
  },
  {
   "cell_type": "code",
   "execution_count": 58,
   "metadata": {},
   "outputs": [],
   "source": [
    "import glob\n",
    "\n",
    "#Read he \n",
    "all_files = glob.glob(news_data_silver + \"/*.csv\")\n",
    "li = []\n",
    "\n",
    "for filename in all_files:\n",
    "    df = pd.read_csv(filename, index_col=None, header=0)\n",
    "    li.append(df)\n",
    "\n",
    "df_snp500_news_silver = pd.concat(li, axis=0, ignore_index=True)"
   ]
  },
  {
   "cell_type": "code",
   "execution_count": 59,
   "metadata": {},
   "outputs": [
    {
     "name": "stdout",
     "output_type": "stream",
     "text": [
      "<class 'pandas.core.frame.DataFrame'>\n",
      "RangeIndex: 2071500 entries, 0 to 2071499\n",
      "Data columns (total 3 columns):\n",
      "Ticker     object\n",
      "NewsNum    int64\n",
      "Value      object\n",
      "dtypes: int64(1), object(2)\n",
      "memory usage: 47.4+ MB\n"
     ]
    }
   ],
   "source": [
    "df_snp500_news_silver.info()"
   ]
  },
  {
   "cell_type": "code",
   "execution_count": 61,
   "metadata": {},
   "outputs": [
    {
     "data": {
      "text/plain": [
       "(2071500, 3)"
      ]
     },
     "execution_count": 61,
     "metadata": {},
     "output_type": "execute_result"
    }
   ],
   "source": [
    "df_snp500_news_silver.shape"
   ]
  },
  {
   "cell_type": "code",
   "execution_count": 63,
   "metadata": {},
   "outputs": [
    {
     "data": {
      "text/html": [
       "<div>\n",
       "<style scoped>\n",
       "    .dataframe tbody tr th:only-of-type {\n",
       "        vertical-align: middle;\n",
       "    }\n",
       "\n",
       "    .dataframe tbody tr th {\n",
       "        vertical-align: top;\n",
       "    }\n",
       "\n",
       "    .dataframe thead th {\n",
       "        text-align: right;\n",
       "    }\n",
       "</style>\n",
       "<table border=\"1\" class=\"dataframe\">\n",
       "  <thead>\n",
       "    <tr style=\"text-align: right;\">\n",
       "      <th></th>\n",
       "      <th>Ticker</th>\n",
       "      <th>NewsNum</th>\n",
       "      <th>Value</th>\n",
       "    </tr>\n",
       "  </thead>\n",
       "  <tbody>\n",
       "    <tr>\n",
       "      <th>0</th>\n",
       "      <td>A</td>\n",
       "      <td>0</td>\n",
       "      <td>SANTA CLARA, Calif., September 23, 2021--Pfize...</td>\n",
       "    </tr>\n",
       "    <tr>\n",
       "      <th>1</th>\n",
       "      <td>A</td>\n",
       "      <td>1</td>\n",
       "      <td>SANTA CLARA, Calif., September 22, 2021--Agile...</td>\n",
       "    </tr>\n",
       "    <tr>\n",
       "      <th>2</th>\n",
       "      <td>A</td>\n",
       "      <td>2</td>\n",
       "      <td>Hedge fund manager William Ackman's 10% bet on...</td>\n",
       "    </tr>\n",
       "    <tr>\n",
       "      <th>3</th>\n",
       "      <td>A</td>\n",
       "      <td>3</td>\n",
       "      <td>Smart Beta ETF report for FTCS</td>\n",
       "    </tr>\n",
       "    <tr>\n",
       "      <th>4</th>\n",
       "      <td>A</td>\n",
       "      <td>4</td>\n",
       "      <td>Stocks Cut Losses Amid Mixed Economic Data</td>\n",
       "    </tr>\n",
       "    <tr>\n",
       "      <th>...</th>\n",
       "      <td>...</td>\n",
       "      <td>...</td>\n",
       "      <td>...</td>\n",
       "    </tr>\n",
       "    <tr>\n",
       "      <th>95</th>\n",
       "      <td>AAP</td>\n",
       "      <td>15</td>\n",
       "      <td>Yahoo Finance’s Ines Ferre reports on the day'...</td>\n",
       "    </tr>\n",
       "    <tr>\n",
       "      <th>96</th>\n",
       "      <td>AAP</td>\n",
       "      <td>16</td>\n",
       "      <td>Shares of JetBlue (JBLU), which started flying...</td>\n",
       "    </tr>\n",
       "    <tr>\n",
       "      <th>97</th>\n",
       "      <td>AAP</td>\n",
       "      <td>17</td>\n",
       "      <td>The Justice Department is readying a lawsuit c...</td>\n",
       "    </tr>\n",
       "    <tr>\n",
       "      <th>98</th>\n",
       "      <td>AAP</td>\n",
       "      <td>18</td>\n",
       "      <td>WASHINGTON (Reuters) -The U.S. Justice Departm...</td>\n",
       "    </tr>\n",
       "    <tr>\n",
       "      <th>99</th>\n",
       "      <td>AAP</td>\n",
       "      <td>19</td>\n",
       "      <td>Companies In The News Are: TSLA, AAL, PFE, BNT...</td>\n",
       "    </tr>\n",
       "  </tbody>\n",
       "</table>\n",
       "<p>100 rows × 3 columns</p>\n",
       "</div>"
      ],
      "text/plain": [
       "   Ticker  NewsNum                                              Value\n",
       "0       A        0  SANTA CLARA, Calif., September 23, 2021--Pfize...\n",
       "1       A        1  SANTA CLARA, Calif., September 22, 2021--Agile...\n",
       "2       A        2  Hedge fund manager William Ackman's 10% bet on...\n",
       "3       A        3                     Smart Beta ETF report for FTCS\n",
       "4       A        4         Stocks Cut Losses Amid Mixed Economic Data\n",
       "..    ...      ...                                                ...\n",
       "95    AAP       15  Yahoo Finance’s Ines Ferre reports on the day'...\n",
       "96    AAP       16  Shares of JetBlue (JBLU), which started flying...\n",
       "97    AAP       17  The Justice Department is readying a lawsuit c...\n",
       "98    AAP       18  WASHINGTON (Reuters) -The U.S. Justice Departm...\n",
       "99    AAP       19  Companies In The News Are: TSLA, AAL, PFE, BNT...\n",
       "\n",
       "[100 rows x 3 columns]"
      ]
     },
     "execution_count": 63,
     "metadata": {},
     "output_type": "execute_result"
    }
   ],
   "source": [
    "df_snp500_news_silver.head(100)"
   ]
  },
  {
   "cell_type": "code",
   "execution_count": 66,
   "metadata": {},
   "outputs": [],
   "source": [
    "# applying the cleaning function to text column\n",
    "df_snp500_news_silver['CleanedText'] = df_snp500_news_silver['Value'].apply(lambda text: function_clean_stop(text))"
   ]
  },
  {
   "cell_type": "code",
   "execution_count": 67,
   "metadata": {},
   "outputs": [
    {
     "data": {
      "text/html": [
       "<div>\n",
       "<style scoped>\n",
       "    .dataframe tbody tr th:only-of-type {\n",
       "        vertical-align: middle;\n",
       "    }\n",
       "\n",
       "    .dataframe tbody tr th {\n",
       "        vertical-align: top;\n",
       "    }\n",
       "\n",
       "    .dataframe thead th {\n",
       "        text-align: right;\n",
       "    }\n",
       "</style>\n",
       "<table border=\"1\" class=\"dataframe\">\n",
       "  <thead>\n",
       "    <tr style=\"text-align: right;\">\n",
       "      <th></th>\n",
       "      <th>Ticker</th>\n",
       "      <th>NewsNum</th>\n",
       "      <th>Value</th>\n",
       "      <th>CleanedText</th>\n",
       "    </tr>\n",
       "  </thead>\n",
       "  <tbody>\n",
       "    <tr>\n",
       "      <th>0</th>\n",
       "      <td>A</td>\n",
       "      <td>0</td>\n",
       "      <td>SANTA CLARA, Calif., September 23, 2021--Pfize...</td>\n",
       "      <td>santa clara calif september pfizer executive d...</td>\n",
       "    </tr>\n",
       "    <tr>\n",
       "      <th>1</th>\n",
       "      <td>A</td>\n",
       "      <td>1</td>\n",
       "      <td>SANTA CLARA, Calif., September 22, 2021--Agile...</td>\n",
       "      <td>santa clara calif september agilent announces ...</td>\n",
       "    </tr>\n",
       "    <tr>\n",
       "      <th>2</th>\n",
       "      <td>A</td>\n",
       "      <td>2</td>\n",
       "      <td>Hedge fund manager William Ackman's 10% bet on...</td>\n",
       "      <td>hedge fund manager william ackman bet universa...</td>\n",
       "    </tr>\n",
       "    <tr>\n",
       "      <th>3</th>\n",
       "      <td>A</td>\n",
       "      <td>3</td>\n",
       "      <td>Smart Beta ETF report for FTCS</td>\n",
       "      <td>smart beta etf report ftc</td>\n",
       "    </tr>\n",
       "    <tr>\n",
       "      <th>4</th>\n",
       "      <td>A</td>\n",
       "      <td>4</td>\n",
       "      <td>Stocks Cut Losses Amid Mixed Economic Data</td>\n",
       "      <td>stock cut loss amid mixed economic data</td>\n",
       "    </tr>\n",
       "  </tbody>\n",
       "</table>\n",
       "</div>"
      ],
      "text/plain": [
       "  Ticker  NewsNum                                              Value  \\\n",
       "0      A        0  SANTA CLARA, Calif., September 23, 2021--Pfize...   \n",
       "1      A        1  SANTA CLARA, Calif., September 22, 2021--Agile...   \n",
       "2      A        2  Hedge fund manager William Ackman's 10% bet on...   \n",
       "3      A        3                     Smart Beta ETF report for FTCS   \n",
       "4      A        4         Stocks Cut Losses Amid Mixed Economic Data   \n",
       "\n",
       "                                         CleanedText  \n",
       "0  santa clara calif september pfizer executive d...  \n",
       "1  santa clara calif september agilent announces ...  \n",
       "2  hedge fund manager william ackman bet universa...  \n",
       "3                          smart beta etf report ftc  \n",
       "4            stock cut loss amid mixed economic data  "
      ]
     },
     "execution_count": 67,
     "metadata": {},
     "output_type": "execute_result"
    }
   ],
   "source": [
    "df_snp500_news_silver.head()"
   ]
  },
  {
   "cell_type": "code",
   "execution_count": 76,
   "metadata": {},
   "outputs": [
    {
     "data": {
      "text/plain": [
       "['santa clara calif september pfizer executive dr mikael dolsten appointed agilent board director']"
      ]
     },
     "execution_count": 76,
     "metadata": {},
     "output_type": "execute_result"
    }
   ],
   "source": [
    "df_snp500_news_silver.iloc[0:1, 3].to_list()"
   ]
  },
  {
   "cell_type": "code",
   "execution_count": 77,
   "metadata": {},
   "outputs": [
    {
     "data": {
      "text/plain": [
       "['SANTA CLARA, Calif., September 23, 2021--Pfizer executive Dr. Mikael Dolsten appointed to Agilent board of directors.']"
      ]
     },
     "execution_count": 77,
     "metadata": {},
     "output_type": "execute_result"
    }
   ],
   "source": [
    "df_snp500_news_silver.iloc[0:1, 2].to_list()"
   ]
  },
  {
   "cell_type": "markdown",
   "metadata": {},
   "source": [
    "#### Write Data (Gold) <a class=\"anchor\" id=\"WG\"></a>"
   ]
  },
  {
   "cell_type": "code",
   "execution_count": 78,
   "metadata": {},
   "outputs": [],
   "source": [
    "df_snp500_news_gold = df_snp500_news_silver[['Ticker','NewsNum','CleanedText']]"
   ]
  },
  {
   "cell_type": "code",
   "execution_count": 79,
   "metadata": {},
   "outputs": [],
   "source": [
    "output_file_name = news_data_gold + '/snp500_all_news.csv'\n",
    "df_snp500_news_gold.to_csv(output_file_name, index=False)  "
   ]
  },
  {
   "cell_type": "code",
   "execution_count": 80,
   "metadata": {},
   "outputs": [
    {
     "data": {
      "text/html": [
       "<div>\n",
       "<style scoped>\n",
       "    .dataframe tbody tr th:only-of-type {\n",
       "        vertical-align: middle;\n",
       "    }\n",
       "\n",
       "    .dataframe tbody tr th {\n",
       "        vertical-align: top;\n",
       "    }\n",
       "\n",
       "    .dataframe thead th {\n",
       "        text-align: right;\n",
       "    }\n",
       "</style>\n",
       "<table border=\"1\" class=\"dataframe\">\n",
       "  <thead>\n",
       "    <tr style=\"text-align: right;\">\n",
       "      <th></th>\n",
       "      <th>Ticker</th>\n",
       "      <th>NewsNum</th>\n",
       "      <th>CleanedText</th>\n",
       "    </tr>\n",
       "  </thead>\n",
       "  <tbody>\n",
       "    <tr>\n",
       "      <th>0</th>\n",
       "      <td>A</td>\n",
       "      <td>0</td>\n",
       "      <td>santa clara calif september pfizer executive d...</td>\n",
       "    </tr>\n",
       "    <tr>\n",
       "      <th>1</th>\n",
       "      <td>A</td>\n",
       "      <td>1</td>\n",
       "      <td>santa clara calif september agilent announces ...</td>\n",
       "    </tr>\n",
       "    <tr>\n",
       "      <th>2</th>\n",
       "      <td>A</td>\n",
       "      <td>2</td>\n",
       "      <td>hedge fund manager william ackman bet universa...</td>\n",
       "    </tr>\n",
       "    <tr>\n",
       "      <th>3</th>\n",
       "      <td>A</td>\n",
       "      <td>3</td>\n",
       "      <td>smart beta etf report ftc</td>\n",
       "    </tr>\n",
       "    <tr>\n",
       "      <th>4</th>\n",
       "      <td>A</td>\n",
       "      <td>4</td>\n",
       "      <td>stock cut loss amid mixed economic data</td>\n",
       "    </tr>\n",
       "  </tbody>\n",
       "</table>\n",
       "</div>"
      ],
      "text/plain": [
       "  Ticker  NewsNum                                        CleanedText\n",
       "0      A        0  santa clara calif september pfizer executive d...\n",
       "1      A        1  santa clara calif september agilent announces ...\n",
       "2      A        2  hedge fund manager william ackman bet universa...\n",
       "3      A        3                          smart beta etf report ftc\n",
       "4      A        4            stock cut loss amid mixed economic data"
      ]
     },
     "execution_count": 80,
     "metadata": {},
     "output_type": "execute_result"
    }
   ],
   "source": [
    "df_snp500_news_gold.head()"
   ]
  },
  {
   "cell_type": "code",
   "execution_count": 81,
   "metadata": {},
   "outputs": [
    {
     "data": {
      "text/plain": [
       "Ticker         2071500\n",
       "NewsNum        2071500\n",
       "CleanedText    2071500\n",
       "dtype: int64"
      ]
     },
     "execution_count": 81,
     "metadata": {},
     "output_type": "execute_result"
    }
   ],
   "source": [
    "df_snp500_news_gold.count()"
   ]
  },
  {
   "cell_type": "code",
   "execution_count": 82,
   "metadata": {},
   "outputs": [],
   "source": [
    "#Create sub folder for stock news data in gold\n",
    "news_data_gold_chunks = news_data_gold +\"/small_chunks\"\n",
    "os.makedirs(news_data_gold_chunks, exist_ok=True)"
   ]
  },
  {
   "cell_type": "code",
   "execution_count": 83,
   "metadata": {},
   "outputs": [],
   "source": [
    "#Split into small files\n",
    "number_of_chunks = 25\n",
    "for idx, chunk in enumerate(np.array_split(df_snp500_news_gold, number_of_chunks)):\n",
    "    chunk.to_csv(f'/{news_data_gold_chunks}/snp500_news_{idx}.csv', index=False) "
   ]
  },
  {
   "cell_type": "code",
   "execution_count": 84,
   "metadata": {},
   "outputs": [
    {
     "data": {
      "text/plain": [
       "Ticker         82860\n",
       "NewsNum        82860\n",
       "CleanedText    82860\n",
       "dtype: int64"
      ]
     },
     "execution_count": 84,
     "metadata": {},
     "output_type": "execute_result"
    }
   ],
   "source": [
    "filename = news_data_gold_chunks + '/snp500_news_2.csv'\n",
    "test_df = pd.read_csv(filename, index_col=None, header=0)\n",
    "test_df.count()"
   ]
  },
  {
   "cell_type": "code",
   "execution_count": 85,
   "metadata": {},
   "outputs": [
    {
     "data": {
      "text/html": [
       "<div>\n",
       "<style scoped>\n",
       "    .dataframe tbody tr th:only-of-type {\n",
       "        vertical-align: middle;\n",
       "    }\n",
       "\n",
       "    .dataframe tbody tr th {\n",
       "        vertical-align: top;\n",
       "    }\n",
       "\n",
       "    .dataframe thead th {\n",
       "        text-align: right;\n",
       "    }\n",
       "</style>\n",
       "<table border=\"1\" class=\"dataframe\">\n",
       "  <thead>\n",
       "    <tr style=\"text-align: right;\">\n",
       "      <th></th>\n",
       "      <th>Ticker</th>\n",
       "      <th>NewsNum</th>\n",
       "      <th>CleanedText</th>\n",
       "    </tr>\n",
       "  </thead>\n",
       "  <tbody>\n",
       "    <tr>\n",
       "      <th>0</th>\n",
       "      <td>DD</td>\n",
       "      <td>5</td>\n",
       "      <td>month working remotely due covid pandemic pare...</td>\n",
       "    </tr>\n",
       "    <tr>\n",
       "      <th>1</th>\n",
       "      <td>DD</td>\n",
       "      <td>6</td>\n",
       "      <td>first time global scale new research found hea...</td>\n",
       "    </tr>\n",
       "    <tr>\n",
       "      <th>2</th>\n",
       "      <td>DD</td>\n",
       "      <td>7</td>\n",
       "      <td>carrier global corporation nyse carr chairman ...</td>\n",
       "    </tr>\n",
       "    <tr>\n",
       "      <th>3</th>\n",
       "      <td>DD</td>\n",
       "      <td>8</td>\n",
       "      <td>carrier today announced completed acquisition ...</td>\n",
       "    </tr>\n",
       "    <tr>\n",
       "      <th>4</th>\n",
       "      <td>DD</td>\n",
       "      <td>9</td>\n",
       "      <td>aerospace giant leading heating ventilation ai...</td>\n",
       "    </tr>\n",
       "  </tbody>\n",
       "</table>\n",
       "</div>"
      ],
      "text/plain": [
       "  Ticker  NewsNum                                        CleanedText\n",
       "0     DD        5  month working remotely due covid pandemic pare...\n",
       "1     DD        6  first time global scale new research found hea...\n",
       "2     DD        7  carrier global corporation nyse carr chairman ...\n",
       "3     DD        8  carrier today announced completed acquisition ...\n",
       "4     DD        9  aerospace giant leading heating ventilation ai..."
      ]
     },
     "execution_count": 85,
     "metadata": {},
     "output_type": "execute_result"
    }
   ],
   "source": [
    "test_df.head()"
   ]
  },
  {
   "cell_type": "code",
   "execution_count": null,
   "metadata": {},
   "outputs": [],
   "source": []
  }
 ],
 "metadata": {
  "kernel_info": {
   "name": "python3-azureml"
  },
  "kernelspec": {
   "display_name": "Python 3.6 - AzureML",
   "language": "python",
   "name": "python3-azureml"
  },
  "language_info": {
   "codemirror_mode": {
    "name": "ipython",
    "version": 3
   },
   "file_extension": ".py",
   "mimetype": "text/x-python",
   "name": "python",
   "nbconvert_exporter": "python",
   "pygments_lexer": "ipython3",
   "version": "3.6.9"
  },
  "nteract": {
   "version": "nteract-front-end@1.0.0"
  }
 },
 "nbformat": 4,
 "nbformat_minor": 2
}
