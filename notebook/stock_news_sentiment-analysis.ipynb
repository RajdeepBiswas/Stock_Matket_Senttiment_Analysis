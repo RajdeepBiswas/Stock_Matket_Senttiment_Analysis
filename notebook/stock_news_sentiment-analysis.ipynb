{
  "cells": [
    {
      "cell_type": "markdown",
      "source": [
        "###  ---------------------------------------------------------------------------------------------------------------------------------------\n",
        "##### Copyright (c) Rajdeep Biswas\n",
        "##### Licensed under the MIT license.\n",
        "###### File: stock_news_sentiment.ipynb\n",
        "###### Date: 10/24/2021\n",
        "###  ---------------------------------------------------------------------------------------------------------------------------------------"
      ],
      "metadata": {}
    },
    {
      "cell_type": "markdown",
      "source": [
        "### Table of Contents\n",
        "\n",
        "* [Initial Configurations](#IC)\n",
        "    * [Import Libraries](#IL)\n",
        "    * [Autheticate the AML Workspace](#AML)\n",
        "* [Get Data](#GD)\n",
        "    * [Setup Directory Structure](#SD)\n",
        "    * [Read Gold File](#RG) \n",
        "* [Apply NLP](#AN)   \n",
        "    * [VADER](#AV) \n",
        "    * [textBlob](#ATB) \n",
        "    * [Dictionary-Based Sentiment Analysis](#ADB)     \n",
        "* [Evaluation](#EV)      "
      ],
      "metadata": {}
    },
    {
      "cell_type": "markdown",
      "source": [
        "### Initial Configurations <a class=\"anchor\" id=\"IC\"></a>\n",
        "#### Import Libraries <a class=\"anchor\" id=\"IL\"></a>"
      ],
      "metadata": {}
    },
    {
      "cell_type": "code",
      "source": [
        "#Import required Libraries\n",
        "import os\n",
        "\n",
        "import numpy as np # linear algebra\n",
        "import pandas as pd # data processing, CSV file I/O (e.g. pd.read_csv)\n",
        "from matplotlib.image import imread\n",
        "import cv2\n",
        "%matplotlib inline\n",
        "\n",
        "import warnings\n",
        "warnings.filterwarnings(\"ignore\")\n",
        "\n",
        "#pip install pandas_datareader\n",
        "import pandas_datareader.data as web\n",
        "import pandas as pd\n",
        "import datetime as dt\n",
        "\n",
        "import azureml.core\n",
        "import azureml.automl\n",
        "from azureml.core import Workspace, Dataset, Datastore\n",
        "\n",
        "\n",
        "\n",
        "#viz\n",
        "#pip install seaborn\n",
        "import matplotlib.pyplot as plt\n",
        "import seaborn as sns \n",
        "import matplotlib.gridspec as gridspec \n",
        "import matplotlib.gridspec as gridspec \n",
        "\n",
        "#settings\n",
        "color = sns.color_palette()\n",
        "sns.set_style(\"dark\")"
      ],
      "outputs": [],
      "execution_count": 1,
      "metadata": {}
    },
    {
      "cell_type": "markdown",
      "source": [
        "#### Autheticate the AML Workspace <a class=\"anchor\" id=\"AML\"></a>"
      ],
      "metadata": {}
    },
    {
      "cell_type": "code",
      "source": [
        "import azureml.core\n",
        "from azureml.core import Workspace\n",
        "\n",
        "# Load the workspace from the saved config file\n",
        "ws = Workspace.from_config()\n",
        "print('Ready to use Azure ML {} to work with {}'.format(azureml.core.VERSION, ws.name))"
      ],
      "outputs": [
        {
          "output_type": "stream",
          "name": "stdout",
          "text": "Ready to use Azure ML 1.33.0 to work with houston-techsummit-workspace\n"
        }
      ],
      "execution_count": 3,
      "metadata": {}
    },
    {
      "cell_type": "markdown",
      "source": [
        "### Get Data <a class=\"anchor\" id=\"GD\"></a>\n",
        "#### Setup Directory Structure <a class=\"anchor\" id=\"SD\"></a>"
      ],
      "metadata": {}
    },
    {
      "cell_type": "code",
      "source": [
        "data_folder = os.path.join(os.getcwd(), 'data')\n",
        "\n",
        "#Create the data directory\n",
        "os.makedirs(data_folder, exist_ok=True)\n",
        "\n",
        "gold_data_folder = data_folder +\"/gold\"\n",
        "os.makedirs(gold_data_folder, exist_ok=True)\n",
        "\n",
        "#Create sub folder for stock news data in gold\n",
        "news_data_gold = gold_data_folder +\"/snp500_news\"\n",
        "os.makedirs(news_data_gold, exist_ok=True)"
      ],
      "outputs": [],
      "execution_count": 4,
      "metadata": {}
    },
    {
      "cell_type": "markdown",
      "source": [
        "#### Read Gold File <a class=\"anchor\" id=\"RG\"></a>"
      ],
      "metadata": {}
    },
    {
      "cell_type": "code",
      "source": [
        "output_file_name = news_data_gold + '/snp500_all_news.csv'\n",
        "df_snp500_news_gold = pd.read_csv(output_file_name, index_col=None, header=0) "
      ],
      "outputs": [],
      "execution_count": 5,
      "metadata": {}
    },
    {
      "cell_type": "code",
      "source": [
        "# Reviews for Apple\n",
        "rev_apple = df_snp500_news_gold[df_snp500_news_gold['Ticker']=='AAPL']"
      ],
      "outputs": [],
      "execution_count": 20,
      "metadata": {}
    },
    {
      "cell_type": "code",
      "source": [
        "type(rev_apple)"
      ],
      "outputs": [
        {
          "output_type": "execute_result",
          "execution_count": 21,
          "data": {
            "text/plain": "pandas.core.frame.DataFrame"
          },
          "metadata": {}
        }
      ],
      "execution_count": 21,
      "metadata": {}
    },
    {
      "cell_type": "markdown",
      "source": [
        "### Apply NLP <a class=\"anchor\" id=\"AN\"></a>\n",
        "#### Vader <a class=\"anchor\" id=\"AV\"></a>"
      ],
      "metadata": {}
    },
    {
      "cell_type": "markdown",
      "source": [
        "Automated sentiment analyzer\n",
        "VADER:\n",
        "VADER stands for 'Valence Aware Dictionary and sEntiment Reasoner'.\n",
        "(Note: in the spelling ‘sEntiment’, first letter ‘s’ is a small letter\n",
        " and second letter ‘E’ is capital and it is correct). \n",
        "VADER is a lexicon and rule-based sentiment analysis tool.\n",
        "It is used to analyze the sentiment of a text. Lexicon is a list of\n",
        "lexical features (words) that are labeled with positive or negative based\n",
        "on the semantic meaning. Even an unlabelled text data can be labeled\n",
        "with VADER sentiment analyzer.\n",
        "https://pypi.org/project/vaderSentiment/"
      ],
      "metadata": {}
    },
    {
      "cell_type": "code",
      "source": [
        "nltk.download('vader_lexicon') #Uncomment if running for the first time"
      ],
      "outputs": [
        {
          "output_type": "stream",
          "name": "stderr",
          "text": "[nltk_data] Downloading package vader_lexicon to\n[nltk_data]     /home/azureuser/nltk_data...\n"
        },
        {
          "output_type": "execute_result",
          "execution_count": 8,
          "data": {
            "text/plain": "True"
          },
          "metadata": {}
        }
      ],
      "execution_count": 8,
      "metadata": {}
    },
    {
      "cell_type": "code",
      "source": [
        "import nltk\n",
        "#import the VADER Sentiment Analysis from nltk. \n",
        "#Then create an instance for the imported library.\n",
        "from nltk.sentiment.vader import SentimentIntensityAnalyzer\n",
        "vds = SentimentIntensityAnalyzer()"
      ],
      "outputs": [],
      "execution_count": 9,
      "metadata": {}
    },
    {
      "cell_type": "markdown",
      "source": [
        "Now let us check how VADER sentiment analyzer works with a few examples.\n",
        "I am analyzing the text 'I went to the movie, yesterday. It was amazing!\n",
        "Everyone acted well.'\n",
        "The 'polarity_scores(text)' is used for the analysis of the text data.\n",
        "Below is the standard scoring metric followed by most of the analyzers.\n",
        "1. Positive sentiment: compound score >= 0.05\n",
        "2. Neutral sentiment: (compound score > -0.05) and (compound score < 0.05)\n",
        "3. Negative sentiment: compound score <= -0.05"
      ],
      "metadata": {}
    },
    {
      "cell_type": "code",
      "source": [
        "def sentiment_analyzer_vader (lines):\n",
        "    sentiment_score=0\n",
        "    sentiment = 'N/A' #not yet analyzed\n",
        "    \n",
        "    #apply polarity_scores from vader to analyze data\n",
        "    vader_hash = vds.polarity_scores(lines)\n",
        "    sentiment_score = vader_hash['compound']\n",
        "    #Applying rule\n",
        "    if sentiment_score > 0.05:\n",
        "        sentiment = 'Positive'\n",
        "    elif sentiment_score < -0.05:\n",
        "        sentiment = 'Negative'\n",
        "    else:\n",
        "        sentiment = 'Neutral'\n",
        "    \n",
        "    return sentiment"
      ],
      "outputs": [],
      "execution_count": 10,
      "metadata": {}
    },
    {
      "cell_type": "code",
      "source": [
        "rev_apple['sentiment_vader']=rev_apple['CleanedText'].apply(sentiment_analyzer_vader)\n",
        "rev_apple"
      ],
      "outputs": [
        {
          "output_type": "execute_result",
          "execution_count": 22,
          "data": {
            "text/html": "<div>\n<style scoped>\n    .dataframe tbody tr th:only-of-type {\n        vertical-align: middle;\n    }\n\n    .dataframe tbody tr th {\n        vertical-align: top;\n    }\n\n    .dataframe thead th {\n        text-align: right;\n    }\n</style>\n<table border=\"1\" class=\"dataframe\">\n  <thead>\n    <tr style=\"text-align: right;\">\n      <th></th>\n      <th>Ticker</th>\n      <th>NewsNum</th>\n      <th>CleanedText</th>\n      <th>sentiment_vader</th>\n    </tr>\n  </thead>\n  <tbody>\n    <tr>\n      <th>120</th>\n      <td>AAPL</td>\n      <td>0</td>\n      <td>santa clara calif september pfizer executive d...</td>\n      <td>Neutral</td>\n    </tr>\n    <tr>\n      <th>121</th>\n      <td>AAPL</td>\n      <td>1</td>\n      <td>santa clara calif september agilent announces ...</td>\n      <td>Neutral</td>\n    </tr>\n    <tr>\n      <th>122</th>\n      <td>AAPL</td>\n      <td>2</td>\n      <td>hedge fund manager william ackman bet universa...</td>\n      <td>Positive</td>\n    </tr>\n    <tr>\n      <th>123</th>\n      <td>AAPL</td>\n      <td>3</td>\n      <td>smart beta etf report ftc</td>\n      <td>Positive</td>\n    </tr>\n    <tr>\n      <th>124</th>\n      <td>AAPL</td>\n      <td>4</td>\n      <td>stock cut loss amid mixed economic data</td>\n      <td>Negative</td>\n    </tr>\n    <tr>\n      <th>...</th>\n      <td>...</td>\n      <td>...</td>\n      <td>...</td>\n      <td>...</td>\n    </tr>\n    <tr>\n      <th>195</th>\n      <td>AAPL</td>\n      <td>15</td>\n      <td>global shopper face possible shortage smartpho...</td>\n      <td>Negative</td>\n    </tr>\n    <tr>\n      <th>196</th>\n      <td>AAPL</td>\n      <td>16</td>\n      <td>bloomberg china embattled tech tycoon linedup ...</td>\n      <td>Positive</td>\n    </tr>\n    <tr>\n      <th>197</th>\n      <td>AAPL</td>\n      <td>17</td>\n      <td>bloomberg iphone assembly operation china begi...</td>\n      <td>Positive</td>\n    </tr>\n    <tr>\n      <th>198</th>\n      <td>AAPL</td>\n      <td>18</td>\n      <td>deal actually closed long time ago back near d...</td>\n      <td>Negative</td>\n    </tr>\n    <tr>\n      <th>199</th>\n      <td>AAPL</td>\n      <td>19</td>\n      <td>almost hard believe successful berkshire hatha...</td>\n      <td>Positive</td>\n    </tr>\n  </tbody>\n</table>\n<p>80 rows × 4 columns</p>\n</div>",
            "text/plain": "    Ticker  NewsNum                                        CleanedText  \\\n120   AAPL        0  santa clara calif september pfizer executive d...   \n121   AAPL        1  santa clara calif september agilent announces ...   \n122   AAPL        2  hedge fund manager william ackman bet universa...   \n123   AAPL        3                          smart beta etf report ftc   \n124   AAPL        4            stock cut loss amid mixed economic data   \n..     ...      ...                                                ...   \n195   AAPL       15  global shopper face possible shortage smartpho...   \n196   AAPL       16  bloomberg china embattled tech tycoon linedup ...   \n197   AAPL       17  bloomberg iphone assembly operation china begi...   \n198   AAPL       18  deal actually closed long time ago back near d...   \n199   AAPL       19  almost hard believe successful berkshire hatha...   \n\n    sentiment_vader  \n120         Neutral  \n121         Neutral  \n122        Positive  \n123        Positive  \n124        Negative  \n..              ...  \n195        Negative  \n196        Positive  \n197        Positive  \n198        Negative  \n199        Positive  \n\n[80 rows x 4 columns]"
          },
          "metadata": {}
        }
      ],
      "execution_count": 22,
      "metadata": {}
    },
    {
      "cell_type": "code",
      "source": [
        "#Create sub folder for stock news data in gold\n",
        "news_data_gold_sentiment = news_data_gold +\"/news_with_sentiment\"\n",
        "os.makedirs(news_data_gold_sentiment, exist_ok=True)\n",
        "output_file_name = news_data_gold_sentiment + '/apple_sentiment.csv'\n",
        "apple_sent_gold = pd.read_csv(output_file_name, index_col=None, header=0)\n",
        "apple_sent_gold"
      ],
      "outputs": [
        {
          "output_type": "execute_result",
          "execution_count": 24,
          "data": {
            "text/html": "<div>\n<style scoped>\n    .dataframe tbody tr th:only-of-type {\n        vertical-align: middle;\n    }\n\n    .dataframe tbody tr th {\n        vertical-align: top;\n    }\n\n    .dataframe thead th {\n        text-align: right;\n    }\n</style>\n<table border=\"1\" class=\"dataframe\">\n  <thead>\n    <tr style=\"text-align: right;\">\n      <th></th>\n      <th>Ticker</th>\n      <th>NewsNum</th>\n      <th>CleanedText</th>\n      <th>Sentiment</th>\n    </tr>\n  </thead>\n  <tbody>\n    <tr>\n      <th>0</th>\n      <td>AAPL</td>\n      <td>0</td>\n      <td>santa clara calif september pfizer executive d...</td>\n      <td>neutral</td>\n    </tr>\n    <tr>\n      <th>1</th>\n      <td>AAPL</td>\n      <td>1</td>\n      <td>santa clara calif september agilent announces ...</td>\n      <td>neutral</td>\n    </tr>\n    <tr>\n      <th>2</th>\n      <td>AAPL</td>\n      <td>2</td>\n      <td>hedge fund manager william ackman bet universa...</td>\n      <td>neutral</td>\n    </tr>\n    <tr>\n      <th>3</th>\n      <td>AAPL</td>\n      <td>3</td>\n      <td>smart beta etf report ftc</td>\n      <td>neutral</td>\n    </tr>\n    <tr>\n      <th>4</th>\n      <td>AAPL</td>\n      <td>4</td>\n      <td>stock cut loss amid mixed economic data</td>\n      <td>neutral</td>\n    </tr>\n    <tr>\n      <th>...</th>\n      <td>...</td>\n      <td>...</td>\n      <td>...</td>\n      <td>...</td>\n    </tr>\n    <tr>\n      <th>75</th>\n      <td>AAPL</td>\n      <td>15</td>\n      <td>global shopper face possible shortage smartpho...</td>\n      <td>neutral</td>\n    </tr>\n    <tr>\n      <th>76</th>\n      <td>AAPL</td>\n      <td>16</td>\n      <td>bloomberg china embattled tech tycoon linedup ...</td>\n      <td>neutral</td>\n    </tr>\n    <tr>\n      <th>77</th>\n      <td>AAPL</td>\n      <td>17</td>\n      <td>bloomberg iphone assembly operation china begi...</td>\n      <td>neutral</td>\n    </tr>\n    <tr>\n      <th>78</th>\n      <td>AAPL</td>\n      <td>18</td>\n      <td>deal actually closed long time ago back near d...</td>\n      <td>negative</td>\n    </tr>\n    <tr>\n      <th>79</th>\n      <td>AAPL</td>\n      <td>19</td>\n      <td>almost hard believe successful berkshire hatha...</td>\n      <td>positive</td>\n    </tr>\n  </tbody>\n</table>\n<p>80 rows × 4 columns</p>\n</div>",
            "text/plain": "   Ticker  NewsNum                                        CleanedText  \\\n0    AAPL        0  santa clara calif september pfizer executive d...   \n1    AAPL        1  santa clara calif september agilent announces ...   \n2    AAPL        2  hedge fund manager william ackman bet universa...   \n3    AAPL        3                          smart beta etf report ftc   \n4    AAPL        4            stock cut loss amid mixed economic data   \n..    ...      ...                                                ...   \n75   AAPL       15  global shopper face possible shortage smartpho...   \n76   AAPL       16  bloomberg china embattled tech tycoon linedup ...   \n77   AAPL       17  bloomberg iphone assembly operation china begi...   \n78   AAPL       18  deal actually closed long time ago back near d...   \n79   AAPL       19  almost hard believe successful berkshire hatha...   \n\n   Sentiment  \n0    neutral  \n1    neutral  \n2    neutral  \n3    neutral  \n4    neutral  \n..       ...  \n75   neutral  \n76   neutral  \n77   neutral  \n78  negative  \n79  positive  \n\n[80 rows x 4 columns]"
          },
          "metadata": {}
        }
      ],
      "execution_count": 24,
      "metadata": {}
    },
    {
      "cell_type": "code",
      "source": [
        "apple_sent_gold['sentiment_vader']=apple_sent_gold['CleanedText'].apply(sentiment_analyzer_vader)\n",
        "apple_sent_gold"
      ],
      "outputs": [
        {
          "output_type": "execute_result",
          "execution_count": 25,
          "data": {
            "text/html": "<div>\n<style scoped>\n    .dataframe tbody tr th:only-of-type {\n        vertical-align: middle;\n    }\n\n    .dataframe tbody tr th {\n        vertical-align: top;\n    }\n\n    .dataframe thead th {\n        text-align: right;\n    }\n</style>\n<table border=\"1\" class=\"dataframe\">\n  <thead>\n    <tr style=\"text-align: right;\">\n      <th></th>\n      <th>Ticker</th>\n      <th>NewsNum</th>\n      <th>CleanedText</th>\n      <th>Sentiment</th>\n      <th>sentiment_vader</th>\n    </tr>\n  </thead>\n  <tbody>\n    <tr>\n      <th>0</th>\n      <td>AAPL</td>\n      <td>0</td>\n      <td>santa clara calif september pfizer executive d...</td>\n      <td>neutral</td>\n      <td>Neutral</td>\n    </tr>\n    <tr>\n      <th>1</th>\n      <td>AAPL</td>\n      <td>1</td>\n      <td>santa clara calif september agilent announces ...</td>\n      <td>neutral</td>\n      <td>Neutral</td>\n    </tr>\n    <tr>\n      <th>2</th>\n      <td>AAPL</td>\n      <td>2</td>\n      <td>hedge fund manager william ackman bet universa...</td>\n      <td>neutral</td>\n      <td>Positive</td>\n    </tr>\n    <tr>\n      <th>3</th>\n      <td>AAPL</td>\n      <td>3</td>\n      <td>smart beta etf report ftc</td>\n      <td>neutral</td>\n      <td>Positive</td>\n    </tr>\n    <tr>\n      <th>4</th>\n      <td>AAPL</td>\n      <td>4</td>\n      <td>stock cut loss amid mixed economic data</td>\n      <td>neutral</td>\n      <td>Negative</td>\n    </tr>\n    <tr>\n      <th>...</th>\n      <td>...</td>\n      <td>...</td>\n      <td>...</td>\n      <td>...</td>\n      <td>...</td>\n    </tr>\n    <tr>\n      <th>75</th>\n      <td>AAPL</td>\n      <td>15</td>\n      <td>global shopper face possible shortage smartpho...</td>\n      <td>neutral</td>\n      <td>Negative</td>\n    </tr>\n    <tr>\n      <th>76</th>\n      <td>AAPL</td>\n      <td>16</td>\n      <td>bloomberg china embattled tech tycoon linedup ...</td>\n      <td>neutral</td>\n      <td>Positive</td>\n    </tr>\n    <tr>\n      <th>77</th>\n      <td>AAPL</td>\n      <td>17</td>\n      <td>bloomberg iphone assembly operation china begi...</td>\n      <td>neutral</td>\n      <td>Positive</td>\n    </tr>\n    <tr>\n      <th>78</th>\n      <td>AAPL</td>\n      <td>18</td>\n      <td>deal actually closed long time ago back near d...</td>\n      <td>negative</td>\n      <td>Negative</td>\n    </tr>\n    <tr>\n      <th>79</th>\n      <td>AAPL</td>\n      <td>19</td>\n      <td>almost hard believe successful berkshire hatha...</td>\n      <td>positive</td>\n      <td>Positive</td>\n    </tr>\n  </tbody>\n</table>\n<p>80 rows × 5 columns</p>\n</div>",
            "text/plain": "   Ticker  NewsNum                                        CleanedText  \\\n0    AAPL        0  santa clara calif september pfizer executive d...   \n1    AAPL        1  santa clara calif september agilent announces ...   \n2    AAPL        2  hedge fund manager william ackman bet universa...   \n3    AAPL        3                          smart beta etf report ftc   \n4    AAPL        4            stock cut loss amid mixed economic data   \n..    ...      ...                                                ...   \n75   AAPL       15  global shopper face possible shortage smartpho...   \n76   AAPL       16  bloomberg china embattled tech tycoon linedup ...   \n77   AAPL       17  bloomberg iphone assembly operation china begi...   \n78   AAPL       18  deal actually closed long time ago back near d...   \n79   AAPL       19  almost hard believe successful berkshire hatha...   \n\n   Sentiment sentiment_vader  \n0    neutral         Neutral  \n1    neutral         Neutral  \n2    neutral        Positive  \n3    neutral        Positive  \n4    neutral        Negative  \n..       ...             ...  \n75   neutral        Negative  \n76   neutral        Positive  \n77   neutral        Positive  \n78  negative        Negative  \n79  positive        Positive  \n\n[80 rows x 5 columns]"
          },
          "metadata": {}
        }
      ],
      "execution_count": 25,
      "metadata": {}
    },
    {
      "cell_type": "markdown",
      "source": [
        "#### TextBlob <a class=\"anchor\" id=\"ATB\"></a>\n",
        "##### UnSupervised Sentiment Analysis using TextBlob"
      ],
      "metadata": {}
    },
    {
      "cell_type": "code",
      "source": [
        "#pip install textblob"
      ],
      "outputs": [],
      "execution_count": 29,
      "metadata": {}
    },
    {
      "cell_type": "code",
      "source": [
        "from textblob import TextBlob\n",
        "# Get the polarity score using below function\n",
        "def get_textBlob_score(sent):\n",
        "    # This polarity score is between -1 to 1\n",
        "    polarity = TextBlob(sent).sentiment.polarity\n",
        "    return polarity"
      ],
      "outputs": [],
      "execution_count": 34,
      "metadata": {}
    },
    {
      "cell_type": "code",
      "source": [
        "def sentiment_analyzer_textBlob (lines):\n",
        "    sentiment_score=0\n",
        "    sentiment = 'N/A' #not yet analyzed\n",
        "    \n",
        "    #apply polarity_scores from vader to analyze data\n",
        "    #vader_hash = vds.polarity_scores(lines)\n",
        "    #sentiment_score = vader_hash['compound']\n",
        "    sentiment_score = TextBlob(lines).sentiment.polarity\n",
        "    #Applying rule\n",
        "    if sentiment_score > 0.05:\n",
        "        sentiment = 'Positive'\n",
        "    elif sentiment_score < -0.05:\n",
        "        sentiment = 'Negative'\n",
        "    else:\n",
        "        sentiment = 'Neutral'\n",
        "    \n",
        "    return sentiment"
      ],
      "outputs": [],
      "execution_count": 31,
      "metadata": {}
    },
    {
      "cell_type": "code",
      "source": [
        "apple_sent_gold['sentiment_textBlob']=apple_sent_gold['CleanedText'].apply(sentiment_analyzer_textBlob)\n",
        "apple_sent_gold"
      ],
      "outputs": [
        {
          "output_type": "execute_result",
          "execution_count": 32,
          "data": {
            "text/html": "<div>\n<style scoped>\n    .dataframe tbody tr th:only-of-type {\n        vertical-align: middle;\n    }\n\n    .dataframe tbody tr th {\n        vertical-align: top;\n    }\n\n    .dataframe thead th {\n        text-align: right;\n    }\n</style>\n<table border=\"1\" class=\"dataframe\">\n  <thead>\n    <tr style=\"text-align: right;\">\n      <th></th>\n      <th>Ticker</th>\n      <th>NewsNum</th>\n      <th>CleanedText</th>\n      <th>Sentiment</th>\n      <th>sentiment_vader</th>\n      <th>sentiment_textBlob</th>\n    </tr>\n  </thead>\n  <tbody>\n    <tr>\n      <th>0</th>\n      <td>AAPL</td>\n      <td>0</td>\n      <td>santa clara calif september pfizer executive d...</td>\n      <td>neutral</td>\n      <td>Neutral</td>\n      <td>Neutral</td>\n    </tr>\n    <tr>\n      <th>1</th>\n      <td>AAPL</td>\n      <td>1</td>\n      <td>santa clara calif september agilent announces ...</td>\n      <td>neutral</td>\n      <td>Neutral</td>\n      <td>Neutral</td>\n    </tr>\n    <tr>\n      <th>2</th>\n      <td>AAPL</td>\n      <td>2</td>\n      <td>hedge fund manager william ackman bet universa...</td>\n      <td>neutral</td>\n      <td>Positive</td>\n      <td>Neutral</td>\n    </tr>\n    <tr>\n      <th>3</th>\n      <td>AAPL</td>\n      <td>3</td>\n      <td>smart beta etf report ftc</td>\n      <td>neutral</td>\n      <td>Positive</td>\n      <td>Positive</td>\n    </tr>\n    <tr>\n      <th>4</th>\n      <td>AAPL</td>\n      <td>4</td>\n      <td>stock cut loss amid mixed economic data</td>\n      <td>neutral</td>\n      <td>Negative</td>\n      <td>Positive</td>\n    </tr>\n    <tr>\n      <th>...</th>\n      <td>...</td>\n      <td>...</td>\n      <td>...</td>\n      <td>...</td>\n      <td>...</td>\n      <td>...</td>\n    </tr>\n    <tr>\n      <th>75</th>\n      <td>AAPL</td>\n      <td>15</td>\n      <td>global shopper face possible shortage smartpho...</td>\n      <td>neutral</td>\n      <td>Negative</td>\n      <td>Neutral</td>\n    </tr>\n    <tr>\n      <th>76</th>\n      <td>AAPL</td>\n      <td>16</td>\n      <td>bloomberg china embattled tech tycoon linedup ...</td>\n      <td>neutral</td>\n      <td>Positive</td>\n      <td>Neutral</td>\n    </tr>\n    <tr>\n      <th>77</th>\n      <td>AAPL</td>\n      <td>17</td>\n      <td>bloomberg iphone assembly operation china begi...</td>\n      <td>neutral</td>\n      <td>Positive</td>\n      <td>Neutral</td>\n    </tr>\n    <tr>\n      <th>78</th>\n      <td>AAPL</td>\n      <td>18</td>\n      <td>deal actually closed long time ago back near d...</td>\n      <td>negative</td>\n      <td>Negative</td>\n      <td>Neutral</td>\n    </tr>\n    <tr>\n      <th>79</th>\n      <td>AAPL</td>\n      <td>19</td>\n      <td>almost hard believe successful berkshire hatha...</td>\n      <td>positive</td>\n      <td>Positive</td>\n      <td>Positive</td>\n    </tr>\n  </tbody>\n</table>\n<p>80 rows × 6 columns</p>\n</div>",
            "text/plain": "   Ticker  NewsNum                                        CleanedText  \\\n0    AAPL        0  santa clara calif september pfizer executive d...   \n1    AAPL        1  santa clara calif september agilent announces ...   \n2    AAPL        2  hedge fund manager william ackman bet universa...   \n3    AAPL        3                          smart beta etf report ftc   \n4    AAPL        4            stock cut loss amid mixed economic data   \n..    ...      ...                                                ...   \n75   AAPL       15  global shopper face possible shortage smartpho...   \n76   AAPL       16  bloomberg china embattled tech tycoon linedup ...   \n77   AAPL       17  bloomberg iphone assembly operation china begi...   \n78   AAPL       18  deal actually closed long time ago back near d...   \n79   AAPL       19  almost hard believe successful berkshire hatha...   \n\n   Sentiment sentiment_vader sentiment_textBlob  \n0    neutral         Neutral            Neutral  \n1    neutral         Neutral            Neutral  \n2    neutral        Positive            Neutral  \n3    neutral        Positive           Positive  \n4    neutral        Negative           Positive  \n..       ...             ...                ...  \n75   neutral        Negative            Neutral  \n76   neutral        Positive            Neutral  \n77   neutral        Positive            Neutral  \n78  negative        Negative            Neutral  \n79  positive        Positive           Positive  \n\n[80 rows x 6 columns]"
          },
          "metadata": {}
        }
      ],
      "execution_count": 32,
      "metadata": {}
    },
    {
      "cell_type": "markdown",
      "source": [
        "#### The punctuation changes the degree. Which raises the question that do we need to clean the text or pass it as is."
      ],
      "metadata": {}
    },
    {
      "cell_type": "code",
      "source": [
        "print(\"! \",get_textBlob_score(\"The phone is super cool!\"))\n",
        "print(\"!! \",get_textBlob_score(\"The phone is super cool!!\"))\n",
        "print(\"!!! \",get_textBlob_score(\"The phone is super cool!!!\"))"
      ],
      "outputs": [
        {
          "output_type": "stream",
          "name": "stdout",
          "text": "!  0.38541666666666663\n!!  0.44010416666666663\n!!!  0.5084635416666666\n"
        }
      ],
      "execution_count": 36,
      "metadata": {}
    },
    {
      "cell_type": "markdown",
      "source": [
        "#### Dictionary-Based Sentiment Analysis <a class=\"anchor\" id=\"ADB\"></a>"
      ],
      "metadata": {}
    },
    {
      "cell_type": "code",
      "source": [
        "import nltk\n",
        "nltk.download('opinion_lexicon') #Uncomment if using for the first time\n",
        "from nltk.corpus import opinion_lexicon"
      ],
      "outputs": [
        {
          "output_type": "stream",
          "name": "stderr",
          "text": "[nltk_data] Downloading package opinion_lexicon to\n[nltk_data]     /home/azureuser/nltk_data...\n[nltk_data]   Unzipping corpora/opinion_lexicon.zip.\n"
        }
      ],
      "execution_count": 37,
      "metadata": {}
    },
    {
      "cell_type": "code",
      "source": [
        "nltk.download('stopwords')  #Uncomment if using for the first time\n",
        "nltk.download('punkt')   #Uncomment if using for the first time\n",
        "from nltk.corpus import stopwords\n",
        "from nltk.tokenize import word_tokenize"
      ],
      "outputs": [
        {
          "output_type": "stream",
          "name": "stderr",
          "text": "[nltk_data] Downloading package stopwords to\n[nltk_data]     /home/azureuser/nltk_data...\n[nltk_data]   Package stopwords is already up-to-date!\n[nltk_data] Downloading package punkt to /home/azureuser/nltk_data...\n[nltk_data]   Unzipping tokenizers/punkt.zip.\n"
        }
      ],
      "execution_count": 41,
      "metadata": {}
    },
    {
      "cell_type": "code",
      "source": [
        "#Generate a list of positive words and a list of negative words from\n",
        "#the dictionary downloaded above:\n",
        "pos_list=set(opinion_lexicon.positive())\n",
        "neg_list=set(opinion_lexicon.negative())"
      ],
      "outputs": [],
      "execution_count": 38,
      "metadata": {}
    },
    {
      "cell_type": "code",
      "source": [
        "# Load stop words\n",
        "stop_words = stopwords.words('english')"
      ],
      "outputs": [],
      "execution_count": 45,
      "metadata": {}
    },
    {
      "cell_type": "code",
      "source": [
        "#Define a sentiment analyzer python function\n",
        "def sentiment_analyzer (lines):\n",
        "    sentiment_score=0\n",
        "    sentiment = 'N/A' #not yet analyzed\n",
        "    #Tokenize words\n",
        "    tokenized_words=word_tokenize(lines)\n",
        "    #Remove Stopwords\n",
        "    stopwords_removed_words = [word for word in tokenized_words if word not in stop_words]\n",
        "    #return tokenized_words\n",
        "    #return stopwords_removed_words\n",
        "    for word in stopwords_removed_words:\n",
        "        if word in pos_list:\n",
        "            sentiment_score+=1\n",
        "        elif word in neg_list:\n",
        "            sentiment_score-=1\n",
        "    #return sentiment_score\n",
        "\n",
        "    #Rule\n",
        "    #1 sentiment_score > 0 -> Positive :)\n",
        "    #2 sentiment_score < 0 -> Negative :(\n",
        "    #3 sentiment_score = 0 -> Neutral -()- \n",
        "    \n",
        "    if sentiment_score > 0:\n",
        "        sentiment = 'Positive'\n",
        "    elif sentiment_score < 0:\n",
        "        sentiment = 'Negative'\n",
        "    else:\n",
        "        sentiment = 'Neutral'\n",
        "    \n",
        "    return sentiment"
      ],
      "outputs": [],
      "execution_count": 46,
      "metadata": {}
    },
    {
      "cell_type": "code",
      "source": [
        "apple_sent_gold['sentiment_dictionary']=apple_sent_gold['CleanedText'].apply(sentiment_analyzer)\n",
        "apple_sent_gold"
      ],
      "outputs": [
        {
          "output_type": "execute_result",
          "execution_count": 47,
          "data": {
            "text/html": "<div>\n<style scoped>\n    .dataframe tbody tr th:only-of-type {\n        vertical-align: middle;\n    }\n\n    .dataframe tbody tr th {\n        vertical-align: top;\n    }\n\n    .dataframe thead th {\n        text-align: right;\n    }\n</style>\n<table border=\"1\" class=\"dataframe\">\n  <thead>\n    <tr style=\"text-align: right;\">\n      <th></th>\n      <th>Ticker</th>\n      <th>NewsNum</th>\n      <th>CleanedText</th>\n      <th>Sentiment</th>\n      <th>sentiment_vader</th>\n      <th>sentiment_textBlob</th>\n      <th>sentiment_dictionary</th>\n    </tr>\n  </thead>\n  <tbody>\n    <tr>\n      <th>0</th>\n      <td>AAPL</td>\n      <td>0</td>\n      <td>santa clara calif september pfizer executive d...</td>\n      <td>neutral</td>\n      <td>Neutral</td>\n      <td>Neutral</td>\n      <td>Neutral</td>\n    </tr>\n    <tr>\n      <th>1</th>\n      <td>AAPL</td>\n      <td>1</td>\n      <td>santa clara calif september agilent announces ...</td>\n      <td>neutral</td>\n      <td>Neutral</td>\n      <td>Neutral</td>\n      <td>Neutral</td>\n    </tr>\n    <tr>\n      <th>2</th>\n      <td>AAPL</td>\n      <td>2</td>\n      <td>hedge fund manager william ackman bet universa...</td>\n      <td>neutral</td>\n      <td>Positive</td>\n      <td>Neutral</td>\n      <td>Positive</td>\n    </tr>\n    <tr>\n      <th>3</th>\n      <td>AAPL</td>\n      <td>3</td>\n      <td>smart beta etf report ftc</td>\n      <td>neutral</td>\n      <td>Positive</td>\n      <td>Positive</td>\n      <td>Positive</td>\n    </tr>\n    <tr>\n      <th>4</th>\n      <td>AAPL</td>\n      <td>4</td>\n      <td>stock cut loss amid mixed economic data</td>\n      <td>neutral</td>\n      <td>Negative</td>\n      <td>Positive</td>\n      <td>Negative</td>\n    </tr>\n    <tr>\n      <th>...</th>\n      <td>...</td>\n      <td>...</td>\n      <td>...</td>\n      <td>...</td>\n      <td>...</td>\n      <td>...</td>\n      <td>...</td>\n    </tr>\n    <tr>\n      <th>75</th>\n      <td>AAPL</td>\n      <td>15</td>\n      <td>global shopper face possible shortage smartpho...</td>\n      <td>neutral</td>\n      <td>Negative</td>\n      <td>Neutral</td>\n      <td>Negative</td>\n    </tr>\n    <tr>\n      <th>76</th>\n      <td>AAPL</td>\n      <td>16</td>\n      <td>bloomberg china embattled tech tycoon linedup ...</td>\n      <td>neutral</td>\n      <td>Positive</td>\n      <td>Neutral</td>\n      <td>Negative</td>\n    </tr>\n    <tr>\n      <th>77</th>\n      <td>AAPL</td>\n      <td>17</td>\n      <td>bloomberg iphone assembly operation china begi...</td>\n      <td>neutral</td>\n      <td>Positive</td>\n      <td>Neutral</td>\n      <td>Negative</td>\n    </tr>\n    <tr>\n      <th>78</th>\n      <td>AAPL</td>\n      <td>18</td>\n      <td>deal actually closed long time ago back near d...</td>\n      <td>negative</td>\n      <td>Negative</td>\n      <td>Neutral</td>\n      <td>Positive</td>\n    </tr>\n    <tr>\n      <th>79</th>\n      <td>AAPL</td>\n      <td>19</td>\n      <td>almost hard believe successful berkshire hatha...</td>\n      <td>positive</td>\n      <td>Positive</td>\n      <td>Positive</td>\n      <td>Neutral</td>\n    </tr>\n  </tbody>\n</table>\n<p>80 rows × 7 columns</p>\n</div>",
            "text/plain": "   Ticker  NewsNum                                        CleanedText  \\\n0    AAPL        0  santa clara calif september pfizer executive d...   \n1    AAPL        1  santa clara calif september agilent announces ...   \n2    AAPL        2  hedge fund manager william ackman bet universa...   \n3    AAPL        3                          smart beta etf report ftc   \n4    AAPL        4            stock cut loss amid mixed economic data   \n..    ...      ...                                                ...   \n75   AAPL       15  global shopper face possible shortage smartpho...   \n76   AAPL       16  bloomberg china embattled tech tycoon linedup ...   \n77   AAPL       17  bloomberg iphone assembly operation china begi...   \n78   AAPL       18  deal actually closed long time ago back near d...   \n79   AAPL       19  almost hard believe successful berkshire hatha...   \n\n   Sentiment sentiment_vader sentiment_textBlob sentiment_dictionary  \n0    neutral         Neutral            Neutral              Neutral  \n1    neutral         Neutral            Neutral              Neutral  \n2    neutral        Positive            Neutral             Positive  \n3    neutral        Positive           Positive             Positive  \n4    neutral        Negative           Positive             Negative  \n..       ...             ...                ...                  ...  \n75   neutral        Negative            Neutral             Negative  \n76   neutral        Positive            Neutral             Negative  \n77   neutral        Positive            Neutral             Negative  \n78  negative        Negative            Neutral             Positive  \n79  positive        Positive           Positive              Neutral  \n\n[80 rows x 7 columns]"
          },
          "metadata": {}
        }
      ],
      "execution_count": 47,
      "metadata": {}
    },
    {
      "cell_type": "markdown",
      "source": [
        "### Evaluation <a class=\"anchor\" id=\"EV\"></a>\n",
        "So how to evaluate which technique is working better?  \n",
        "Manual for now"
      ],
      "metadata": {}
    },
    {
      "cell_type": "code",
      "source": [
        "#Create sub folder for stock news data in gold\n",
        "news_data_gold_sentiment = news_data_gold +\"/news_with_sentiment\"\n",
        "os.makedirs(news_data_gold_sentiment, exist_ok=True)"
      ],
      "outputs": [],
      "execution_count": 48,
      "metadata": {}
    },
    {
      "cell_type": "code",
      "source": [
        "output_file_name = news_data_gold_sentiment + '/apple_sentiment_all_analyze.csv'\n",
        "apple_sent_gold.to_csv(output_file_name, index=False)  "
      ],
      "outputs": [],
      "execution_count": 49,
      "metadata": {}
    },
    {
      "cell_type": "code",
      "source": [
        "test_df = pd.read_csv(output_file_name, index_col=None, header=0)\n",
        "test_df"
      ],
      "outputs": [
        {
          "output_type": "execute_result",
          "execution_count": 50,
          "data": {
            "text/html": "<div>\n<style scoped>\n    .dataframe tbody tr th:only-of-type {\n        vertical-align: middle;\n    }\n\n    .dataframe tbody tr th {\n        vertical-align: top;\n    }\n\n    .dataframe thead th {\n        text-align: right;\n    }\n</style>\n<table border=\"1\" class=\"dataframe\">\n  <thead>\n    <tr style=\"text-align: right;\">\n      <th></th>\n      <th>Ticker</th>\n      <th>NewsNum</th>\n      <th>CleanedText</th>\n      <th>Sentiment</th>\n      <th>sentiment_vader</th>\n      <th>sentiment_textBlob</th>\n      <th>sentiment_dictionary</th>\n    </tr>\n  </thead>\n  <tbody>\n    <tr>\n      <th>0</th>\n      <td>AAPL</td>\n      <td>0</td>\n      <td>santa clara calif september pfizer executive d...</td>\n      <td>neutral</td>\n      <td>Neutral</td>\n      <td>Neutral</td>\n      <td>Neutral</td>\n    </tr>\n    <tr>\n      <th>1</th>\n      <td>AAPL</td>\n      <td>1</td>\n      <td>santa clara calif september agilent announces ...</td>\n      <td>neutral</td>\n      <td>Neutral</td>\n      <td>Neutral</td>\n      <td>Neutral</td>\n    </tr>\n    <tr>\n      <th>2</th>\n      <td>AAPL</td>\n      <td>2</td>\n      <td>hedge fund manager william ackman bet universa...</td>\n      <td>neutral</td>\n      <td>Positive</td>\n      <td>Neutral</td>\n      <td>Positive</td>\n    </tr>\n    <tr>\n      <th>3</th>\n      <td>AAPL</td>\n      <td>3</td>\n      <td>smart beta etf report ftc</td>\n      <td>neutral</td>\n      <td>Positive</td>\n      <td>Positive</td>\n      <td>Positive</td>\n    </tr>\n    <tr>\n      <th>4</th>\n      <td>AAPL</td>\n      <td>4</td>\n      <td>stock cut loss amid mixed economic data</td>\n      <td>neutral</td>\n      <td>Negative</td>\n      <td>Positive</td>\n      <td>Negative</td>\n    </tr>\n    <tr>\n      <th>...</th>\n      <td>...</td>\n      <td>...</td>\n      <td>...</td>\n      <td>...</td>\n      <td>...</td>\n      <td>...</td>\n      <td>...</td>\n    </tr>\n    <tr>\n      <th>75</th>\n      <td>AAPL</td>\n      <td>15</td>\n      <td>global shopper face possible shortage smartpho...</td>\n      <td>neutral</td>\n      <td>Negative</td>\n      <td>Neutral</td>\n      <td>Negative</td>\n    </tr>\n    <tr>\n      <th>76</th>\n      <td>AAPL</td>\n      <td>16</td>\n      <td>bloomberg china embattled tech tycoon linedup ...</td>\n      <td>neutral</td>\n      <td>Positive</td>\n      <td>Neutral</td>\n      <td>Negative</td>\n    </tr>\n    <tr>\n      <th>77</th>\n      <td>AAPL</td>\n      <td>17</td>\n      <td>bloomberg iphone assembly operation china begi...</td>\n      <td>neutral</td>\n      <td>Positive</td>\n      <td>Neutral</td>\n      <td>Negative</td>\n    </tr>\n    <tr>\n      <th>78</th>\n      <td>AAPL</td>\n      <td>18</td>\n      <td>deal actually closed long time ago back near d...</td>\n      <td>negative</td>\n      <td>Negative</td>\n      <td>Neutral</td>\n      <td>Positive</td>\n    </tr>\n    <tr>\n      <th>79</th>\n      <td>AAPL</td>\n      <td>19</td>\n      <td>almost hard believe successful berkshire hatha...</td>\n      <td>positive</td>\n      <td>Positive</td>\n      <td>Positive</td>\n      <td>Neutral</td>\n    </tr>\n  </tbody>\n</table>\n<p>80 rows × 7 columns</p>\n</div>",
            "text/plain": "   Ticker  NewsNum                                        CleanedText  \\\n0    AAPL        0  santa clara calif september pfizer executive d...   \n1    AAPL        1  santa clara calif september agilent announces ...   \n2    AAPL        2  hedge fund manager william ackman bet universa...   \n3    AAPL        3                          smart beta etf report ftc   \n4    AAPL        4            stock cut loss amid mixed economic data   \n..    ...      ...                                                ...   \n75   AAPL       15  global shopper face possible shortage smartpho...   \n76   AAPL       16  bloomberg china embattled tech tycoon linedup ...   \n77   AAPL       17  bloomberg iphone assembly operation china begi...   \n78   AAPL       18  deal actually closed long time ago back near d...   \n79   AAPL       19  almost hard believe successful berkshire hatha...   \n\n   Sentiment sentiment_vader sentiment_textBlob sentiment_dictionary  \n0    neutral         Neutral            Neutral              Neutral  \n1    neutral         Neutral            Neutral              Neutral  \n2    neutral        Positive            Neutral             Positive  \n3    neutral        Positive           Positive             Positive  \n4    neutral        Negative           Positive             Negative  \n..       ...             ...                ...                  ...  \n75   neutral        Negative            Neutral             Negative  \n76   neutral        Positive            Neutral             Negative  \n77   neutral        Positive            Neutral             Negative  \n78  negative        Negative            Neutral             Positive  \n79  positive        Positive           Positive              Neutral  \n\n[80 rows x 7 columns]"
          },
          "metadata": {}
        }
      ],
      "execution_count": 50,
      "metadata": {}
    },
    {
      "cell_type": "code",
      "source": [],
      "outputs": [],
      "execution_count": null,
      "metadata": {}
    }
  ],
  "metadata": {
    "kernelspec": {
      "display_name": "Python 3.6 - AzureML",
      "language": "python",
      "name": "python3-azureml"
    },
    "language_info": {
      "codemirror_mode": {
        "name": "ipython",
        "version": 3
      },
      "file_extension": ".py",
      "mimetype": "text/x-python",
      "name": "python",
      "nbconvert_exporter": "python",
      "pygments_lexer": "ipython3",
      "version": "3.6.9"
    },
    "nteract": {
      "version": "nteract-front-end@1.0.0"
    }
  },
  "nbformat": 4,
  "nbformat_minor": 0
}